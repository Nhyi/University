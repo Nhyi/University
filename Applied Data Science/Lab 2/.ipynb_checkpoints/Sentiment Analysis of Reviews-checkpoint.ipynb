{
 "cells": [
  {
   "cell_type": "code",
   "execution_count": 1,
   "metadata": {},
   "outputs": [],
   "source": [
    "import pandas as pd\n",
    "import re\n",
    "\n",
    "import nltk\n",
    "from nltk.tokenize import word_tokenize\n",
    "from nltk.corpus import stopwords\n",
    "from nltk.stem.porter import PorterStemmer\n",
    "\n",
    "from sklearn.feature_extraction.text import CountVectorizer\n",
    "from sklearn.model_selection import train_test_split\n",
    "from sklearn.naive_bayes import MultinomialNB\n",
    "from sklearn.metrics import confusion_matrix, classification_report, accuracy_score"
   ]
  },
  {
   "cell_type": "code",
   "execution_count": 2,
   "metadata": {},
   "outputs": [
    {
     "name": "stderr",
     "output_type": "stream",
     "text": [
      "[nltk_data] Downloading package punkt to\n",
      "[nltk_data]     C:\\Users\\neelp\\AppData\\Roaming\\nltk_data...\n",
      "[nltk_data]   Package punkt is already up-to-date!\n",
      "[nltk_data] Downloading package stopwords to\n",
      "[nltk_data]     C:\\Users\\neelp\\AppData\\Roaming\\nltk_data...\n",
      "[nltk_data]   Package stopwords is already up-to-date!\n"
     ]
    }
   ],
   "source": [
    "nltk.download('punkt')\n",
    "nltk.download('stopwords')\n",
    "\n",
    "dataset = pd.read_csv('car_reviews.csv')\n",
    "ps = PorterStemmer()"
   ]
  },
  {
   "cell_type": "code",
   "execution_count": 3,
   "metadata": {},
   "outputs": [
    {
     "name": "stdout",
     "output_type": "stream",
     "text": [
      " In 1992 we bought a new Taurus and we really loved it  So in 1999 we decided to try a new Taurus  I did not care for the style of the newer version  but bought it anyway I do not like the new car half as much as i liked our other one  Thee dash is much to deep and takes up a lot of room  I do not find the seats as comfortable and the way the sides stick out further than the strip that should protect your card from denting It drives nice and has good pick up  But you can not see the hood at all from the driver seat and judging and parking is difficult  It has a very small gas tank I would not buy a Taurus if I had it to do over  I would rather have my 1992 back  I dont think the style is as nice as the the 1992  and it was a mistake to change the style  In less than a month we had a dead battery and a flat tire \n",
      "\n",
      "bought new tauru realli love decid tri new tauru care style newer version bought anyway like new car half much like one thee dash much deep take lot room find seat comfort way side stick strip protect card dent drive nice good pick see hood driver seat judg park difficult small ga tank would buy tauru would rather back dont think style nice mistak chang style less month dead batteri flat tire\n"
     ]
    }
   ],
   "source": [
    "#example showing words and punctuation have been excluded and the rest of the text has not been handled in a case sensitive way\n",
    "original_text = dataset['Review'][0]\n",
    "cleaned_text = original_text.lower()\n",
    "cleaned_text = re.sub('[^A-Za-z]', ' ', cleaned_text)\n",
    "tokenized_text = word_tokenize(cleaned_text)\n",
    "processed_text = [ps.stem(word) for word in tokenized_text if word not in set(stopwords.words('english'))]\n",
    "final_text = \" \".join(processed_text)\n",
    "\n",
    "print(original_text)\n",
    "print('')\n",
    "print(final_text)"
   ]
  },
  {
   "cell_type": "code",
   "execution_count": 4,
   "metadata": {},
   "outputs": [
    {
     "name": "stdout",
     "output_type": "stream",
     "text": [
      "['connections', 'connected', 'connecting', 'connection'] -> ['connect', 'connect', 'connect', 'connect']\n",
      "['likes', 'liked', 'liking', 'likely'] -> ['like', 'like', 'like', 'like']\n",
      "['programer', 'programs', 'programming', 'programers'] -> ['program', 'program', 'program', 'program']\n"
     ]
    }
   ],
   "source": [
    "#example showing how words with variations of the same stem are reduced to their common stem\n",
    "word1_list = ['connections', 'connected', 'connecting', 'connection']\n",
    "word2_list = ['likes', 'liked', 'liking', 'likely']\n",
    "word3_list = ['programer', 'programs', 'programming', 'programers']\n",
    "\n",
    "stem1_list = [ps.stem(word) for word in word1_list]\n",
    "stem2_list = [ps.stem(word) for word in word2_list]\n",
    "stem3_list = [ps.stem(word) for word in word3_list]\n",
    "\n",
    "print(str(word1_list) + ' -> ' + str(stem1_list))\n",
    "print(str(word2_list) + ' -> ' + str(stem2_list))\n",
    "print(str(word3_list) + ' -> ' + str(stem3_list))"
   ]
  },
  {
   "cell_type": "code",
   "execution_count": null,
   "metadata": {},
   "outputs": [],
   "source": [
    "data = []\n",
    "\n",
    "for i in range(dataset.shape[0]):\n",
    "    text = dataset.iloc[i, 1]\n",
    "    text = re.sub('[^A-Za-z]', ' ', text)\n",
    "    text = text.lower()\n",
    "    tokenized_text = word_tokenize(text)\n",
    "    \n",
    "    processed_text = [ps.stem(word) for word in tokenized_text if word not in set(stopwords.words('english'))]\n",
    "            \n",
    "    final_text = \" \".join(processed_text)\n",
    "    data.append(final_text)"
   ]
  },
  {
   "cell_type": "code",
   "execution_count": null,
   "metadata": {},
   "outputs": [],
   "source": [
    "matrix = CountVectorizer()\n",
    "X = matrix.fit_transform(data).toarray()\n",
    "Y = dataset.iloc[:, 0]\n",
    "\n",
    "X_train, X_test, Y_train, Y_test = train_test_split(X, Y, test_size = 0.2)\n",
    "\n",
    "print('The number of reviews in the training set is: ' + str(len(X_train)) + '.')\n",
    "print('The number of reviews in the test set is: ' + str(len(X_test)) + '.')"
   ]
  },
  {
   "cell_type": "code",
   "execution_count": null,
   "metadata": {},
   "outputs": [],
   "source": [
    "#I use the inbuilt Multinomial Naive Bayes from sklearn for the classification\n",
    "classifier = MultinomialNB()\n",
    "classifier.fit(X_train, Y_train)\n",
    "\n",
    "Y_pred = classifier.predict(X_test)\n",
    "\n",
    "cf_matrix = confusion_matrix(Y_test, Y_pred)\n",
    "class_report = classification_report(Y_test, Y_pred)\n",
    "accuracy = accuracy_score(Y_test, Y_pred)\n",
    "\n",
    "print('Accuracy: %.2f%% ' % (accuracy * 100.0))"
   ]
  }
 ],
 "metadata": {
  "kernelspec": {
   "display_name": "Python 3",
   "language": "python",
   "name": "python3"
  },
  "language_info": {
   "codemirror_mode": {
    "name": "ipython",
    "version": 3
   },
   "file_extension": ".py",
   "mimetype": "text/x-python",
   "name": "python",
   "nbconvert_exporter": "python",
   "pygments_lexer": "ipython3",
   "version": "3.8.5"
  }
 },
 "nbformat": 4,
 "nbformat_minor": 4
}
