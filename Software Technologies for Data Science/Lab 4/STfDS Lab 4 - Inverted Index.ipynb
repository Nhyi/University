{
 "cells": [
  {
   "cell_type": "code",
   "execution_count": 1,
   "metadata": {},
   "outputs": [],
   "source": [
    "import numpy as np\n",
    "import json\n",
    "import string"
   ]
  },
  {
   "cell_type": "code",
   "execution_count": 2,
   "metadata": {},
   "outputs": [],
   "source": [
    "file = open('recipes.json') \n",
    "recipes = json.load(file)"
   ]
  },
  {
   "cell_type": "code",
   "execution_count": 3,
   "metadata": {},
   "outputs": [],
   "source": [
    "def tokenisation(input_string):\n",
    "    \n",
    "    new_string = input_string.translate(str.maketrans(string.digits, ' '*len(string.digits)))\n",
    "    new_string = new_string.translate(str.maketrans(string.punctuation, ' '*len(string.punctuation)))\n",
    "    new_string = new_string.lower()\n",
    "    \n",
    "    return new_string"
   ]
  },
  {
   "cell_type": "code",
   "execution_count": 4,
   "metadata": {},
   "outputs": [],
   "source": [
    "def squash(entry):\n",
    "    \n",
    "    unique_entries = set(entry)\n",
    "    return sorted([(word, entry.count(word)) for word in unique_entries])"
   ]
  },
  {
   "cell_type": "code",
   "execution_count": 5,
   "metadata": {},
   "outputs": [],
   "source": [
    "def search(recipe_dict):\n",
    "    \n",
    "    sorted_dict = {}\n",
    "    counter = 0\n",
    "    key_list = list(recipe_dict.keys())\n",
    "    value_list = list(recipe_dict.values())\n",
    "    \n",
    "    for value in value_list:\n",
    "        \n",
    "        splitted_string = tokenisation(str(value)).split()\n",
    "        \n",
    "        for word in splitted_string:\n",
    "            \n",
    "            if len(word) < 3:\n",
    "                continue\n",
    "                \n",
    "            elif word not in sorted_dict:\n",
    "                sorted_dict[word] = []\n",
    "                sorted_dict[word].append(key_list[counter])\n",
    "                \n",
    "            else:\n",
    "                sorted_dict[word].append(key_list[counter])\n",
    "                \n",
    "        counter += 1\n",
    "    \n",
    "    return sorted_dict"
   ]
  },
  {
   "cell_type": "code",
   "execution_count": 6,
   "metadata": {},
   "outputs": [],
   "source": [
    "def location(dictionary):\n",
    "\n",
    "    storage = []\n",
    "    searched_dict = search(dictionary)\n",
    "    \n",
    "    list_d = list(searched_dict)\n",
    "    sorted_list = sorted(list_d)\n",
    "    \n",
    "    for i in sorted_list:\n",
    "        \n",
    "        storage.append((i, squash(searched_dict[i])))\n",
    "        \n",
    "    return storage"
   ]
  },
  {
   "cell_type": "code",
   "execution_count": 7,
   "metadata": {},
   "outputs": [],
   "source": [
    "def normal_score(dictionary):\n",
    "    \n",
    "    recipes = location(dictionary)    \n",
    "    word_list = list(np.array(recipes)[:,0])\n",
    "    loc_list = list(np.array(recipes)[:,1])\n",
    "    score_list = []\n",
    "    \n",
    "    for i in loc_list:\n",
    "        \n",
    "        score = 0\n",
    "        \n",
    "        for j in range(len(i)):\n",
    "            \n",
    "            if i[j][0] == 'title':\n",
    "                score += 8 * i[j][1]\n",
    "                \n",
    "            elif i[j][0] == 'categories':\n",
    "                score += 4 * i[j][1]      \n",
    "                \n",
    "            elif i[j][0] == 'ingredients':\n",
    "                score += 2 * i[j][1]\n",
    "                \n",
    "            elif i[j][0] == 'directions':\n",
    "                score += 1 * i[j][1]\n",
    "                \n",
    "        score_list.append(score)\n",
    "        \n",
    "    if 'rating' in dictionary:\n",
    "        score_list.append(dictionary['rating'])\n",
    "        \n",
    "    return list((word_list, score_list))"
   ]
  },
  {
   "cell_type": "code",
   "execution_count": 8,
   "metadata": {},
   "outputs": [],
   "source": [
    "def index_normal(dictionary):\n",
    "    \n",
    "    index_dictionary = {}\n",
    "    score_value = normal_score(dictionary)\n",
    "    recipe_title = dictionary['title']\n",
    "    index_dictionary.update({recipe_title:score_value})\n",
    "    \n",
    "    return index_dictionary "
   ]
  },
  {
   "cell_type": "code",
   "execution_count": 9,
   "metadata": {},
   "outputs": [],
   "source": [
    "def simple_score(dictionary):\n",
    "    \n",
    "    recipes = location(dictionary)\n",
    "    word_list = list(np.array(recipes)[:,0])\n",
    "    recipe_score = 0\n",
    "\n",
    "    ing_count = len(dictionary['ingredients'])\n",
    "    dir_count = len(dictionary['directions'])\n",
    "\n",
    "    if ing_count <= 1 or dir_count <= 1:\n",
    "        recipe_score = 10000000    \n",
    "    else:\n",
    "        recipe_score +=ing_count*dir_count\n",
    "    \n",
    "    return word_list, recipe_score"
   ]
  },
  {
   "cell_type": "code",
   "execution_count": 10,
   "metadata": {},
   "outputs": [],
   "source": [
    "def index_simple(dictionary):\n",
    "\n",
    "    index_dictionary = {}\n",
    "    score_value = simple_score(dictionary)\n",
    "    recipe_title = dictionary['title']\n",
    "    index_dictionary.update({recipe_title:score_value})\n",
    "    \n",
    "    return index_dictionary "
   ]
  },
  {
   "cell_type": "code",
   "execution_count": 11,
   "metadata": {},
   "outputs": [],
   "source": [
    "def health_score(dictionary):\n",
    "    \n",
    "    recipes = location(dictionary)\n",
    "    word_list = list(np.array(recipes)[:,0])\n",
    "    recipe_score = 1000000\n",
    "    \n",
    "        \n",
    "    cal = dictionary['calories']\n",
    "    pro = dictionary['protein']\n",
    "    fat = dictionary['fat']        \n",
    "        \n",
    "    for n in range(1,5):\n",
    "        new_score = (abs(cal - 510*n))/510 + 2*(abs((pro - 18*n))/18) + 4*(abs((fat - 150*n))/150)\n",
    "\n",
    "        if new_score < recipe_score:\n",
    "            recipe_score = new_score\n",
    "               \n",
    "    return word_list, recipe_score"
   ]
  },
  {
   "cell_type": "code",
   "execution_count": 12,
   "metadata": {},
   "outputs": [],
   "source": [
    "def index_health(dictionary):\n",
    "    \n",
    "    index_dictionary = {}\n",
    "    score_value = health_score(dictionary)\n",
    "    recipe_title = dictionary['title']\n",
    "    index_dictionary.update({recipe_title:score_value})\n",
    "    \n",
    "    return index_dictionary   "
   ]
  },
  {
   "cell_type": "code",
   "execution_count": 13,
   "metadata": {},
   "outputs": [],
   "source": [
    "normal_dict = {}\n",
    "\n",
    "for i in recipes:\n",
    "    normal_dict.update(index_normal(i))\n",
    "    \n",
    "simple_dict = {}\n",
    "\n",
    "for i in recipes:\n",
    "    \n",
    "    if 'ingredients' in i and 'directions' in i:\n",
    "        simple_dict.update(index_simple(i))\n",
    "    \n",
    "healthy_dict = {}\n",
    "\n",
    "for i in recipes:\n",
    "    \n",
    "    if 'calories' in i and 'fat' in i and 'protein' in i:\n",
    "        healthy_dict.update(index_health(i))"
   ]
  },
  {
   "cell_type": "code",
   "execution_count": 14,
   "metadata": {},
   "outputs": [],
   "source": [
    "def search(query, ordering = 'normal', count = 10):\n",
    "    \n",
    "    token_list = tokenisation(query)\n",
    "    tokens = list(token_list.split())\n",
    "\n",
    "    for i in tokens:\n",
    "\n",
    "        if len(i) < 3:\n",
    "            tokens.remove(i)\n",
    "            \n",
    "    score_dict = {}\n",
    "    \n",
    "    if ordering == 'normal':\n",
    "\n",
    "        for j, k in normal_dict.items():\n",
    "            \n",
    "            score = 0\n",
    "\n",
    "            if all(x in k[0] for x in tokens):\n",
    "\n",
    "                for l in range(len(tokens)):\n",
    "\n",
    "                    word_loc = k[0].index(tokens[l])\n",
    "                    score += k[1][word_loc]\n",
    "\n",
    "                if len(k[0]) != len(k[1]):\n",
    "                    score += k[1][-1]\n",
    "\n",
    "                score_dict.update({j:score})\n",
    "\n",
    "        if len(score_dict) < count:\n",
    "            normal = sorted(score_dict.items(), key = lambda x: x[1], reverse = True)[:len(score_dict)]\n",
    "\n",
    "            for recipe in normal:\n",
    "                print(recipe[0])\n",
    "            \n",
    "        else:\n",
    "            normal = sorted(score_dict.items(), key = lambda x: x[1], reverse = True)[:count]\n",
    "\n",
    "            for recipe in normal:\n",
    "                print(recipe[0])\n",
    "                \n",
    "    if ordering == 'simple':\n",
    "\n",
    "        new_recipe_dict = [score_dict.update({j:k[1]}) for j, k in simple_dict.items() if all(token in k[0] for token in tokens)]          \n",
    "\n",
    "        if len(score_dict) < count:          \n",
    "            simple = sorted(score_dict.items(), key = lambda x: x[1])[:len(score_dict)]\n",
    "\n",
    "            for recipe in simple:\n",
    "                print(recipe[0])\n",
    "\n",
    "                \n",
    "        else:\n",
    "            simple = sorted(score_dict.items(), key = lambda x: x[1])[:count]\n",
    "\n",
    "            for recipe in simple:\n",
    "                print(recipe[0])\n",
    "\n",
    "    if ordering == 'healthy':\n",
    "\n",
    "        new_recipe_dict = [score_dict.update({j:k[1]}) for j, k in healthy_dict.items() if all(token in k[0] for token in tokens)]\n",
    "\n",
    "        if len(score_dict) < count:\n",
    "            healthy = sorted(score_dict.items(), key = lambda x: x[1])[:len(score_dict)]\n",
    "\n",
    "            for recipe in healthy:\n",
    "                print(recipe[0])  \n",
    "            \n",
    "        else:\n",
    "            healthy = sorted(score_dict.items(), key = lambda x: x[1])[:count]\n",
    "\n",
    "            for recipe in healthy:\n",
    "                print(recipe[0])"
   ]
  },
  {
   "cell_type": "code",
   "execution_count": 18,
   "metadata": {},
   "outputs": [
    {
     "name": "stdout",
     "output_type": "stream",
     "text": [
      "Sesame Tempura Green Beans with Soy Dipping Sauce \n",
      "Shrimp Tempura with Lemon and Olive Mayonnaise \n",
      "Sweet Potato Tempura and Steak Sandwich with Bok Choy and Miso Mayo \n",
      "Shrimp Tempura Cocktail \n",
      "Heaven-and-Earth Tempura Cakes \n",
      "Sugar Snap Pea Tempura \n"
     ]
    }
   ],
   "source": [
    "search('tempura', 'healthy', 10)"
   ]
  }
 ],
 "metadata": {
  "kernelspec": {
   "display_name": "Python 3",
   "language": "python",
   "name": "python3"
  },
  "language_info": {
   "codemirror_mode": {
    "name": "ipython",
    "version": 3
   },
   "file_extension": ".py",
   "mimetype": "text/x-python",
   "name": "python",
   "nbconvert_exporter": "python",
   "pygments_lexer": "ipython3",
   "version": "3.8.3"
  }
 },
 "nbformat": 4,
 "nbformat_minor": 4
}
