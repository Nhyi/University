{
 "cells": [
  {
   "cell_type": "code",
   "execution_count": 1,
   "metadata": {},
   "outputs": [],
   "source": [
    "import re\n",
    "import numpy as np\n",
    "import pandas as pd\n",
    "import seaborn as sns\n",
    "\n",
    "import nltk\n",
    "from nltk.corpus import stopwords\n",
    "from nltk.tokenize import word_tokenize\n",
    "from nltk.stem.porter import PorterStemmer\n",
    "\n",
    "from sklearn.naive_bayes import MultinomialNB\n",
    "from sklearn.model_selection import train_test_split\n",
    "from sklearn.feature_extraction.text import CountVectorizer\n",
    "from sklearn.metrics import confusion_matrix, classification_report, accuracy_score"
   ]
  },
  {
   "cell_type": "code",
   "execution_count": 2,
   "metadata": {},
   "outputs": [
    {
     "name": "stderr",
     "output_type": "stream",
     "text": [
      "[nltk_data] Downloading package punkt to\n",
      "[nltk_data]     C:\\Users\\neelp\\AppData\\Roaming\\nltk_data...\n",
      "[nltk_data]   Package punkt is already up-to-date!\n",
      "[nltk_data] Downloading package stopwords to\n",
      "[nltk_data]     C:\\Users\\neelp\\AppData\\Roaming\\nltk_data...\n",
      "[nltk_data]   Package stopwords is already up-to-date!\n"
     ]
    }
   ],
   "source": [
    "nltk.download('punkt')\n",
    "nltk.download('stopwords')\n",
    "\n",
    "dataset = pd.read_csv('car_reviews.csv')\n",
    "\n",
    "ps = PorterStemmer()"
   ]
  },
  {
   "cell_type": "code",
   "execution_count": 3,
   "metadata": {},
   "outputs": [
    {
     "name": "stdout",
     "output_type": "stream",
     "text": [
      " In 1992 we bought a new Taurus and we really loved it  So in 1999 we decided to try a new Taurus  I did not care for the style of the newer version  but bought it anyway I do not like the new car half as much as i liked our other one  Thee dash is much to deep and takes up a lot of room  I do not find the seats as comfortable and the way the sides stick out further than the strip that should protect your card from denting It drives nice and has good pick up  But you can not see the hood at all from the driver seat and judging and parking is difficult  It has a very small gas tank I would not buy a Taurus if I had it to do over  I would rather have my 1992 back  I dont think the style is as nice as the the 1992  and it was a mistake to change the style  In less than a month we had a dead battery and a flat tire \n",
      "\n",
      "bought new taurus really loved decided try new taurus care style newer version bought anyway like new car half much liked one thee dash much deep takes lot room find seats comfortable way sides stick strip protect card denting drives nice good pick see hood driver seat judging parking difficult small gas tank would buy taurus would rather back dont think style nice mistake change style less month dead battery flat tire\n"
     ]
    }
   ],
   "source": [
    "#example showing words and punctuation have been excluded and the rest of the text has not been handled in a case sensitive way\n",
    "example_text = dataset['Review'][0]\n",
    "text = example_text.lower()\n",
    "text = re.sub('[^A-Za-z]', ' ', text)\n",
    "tokenize = word_tokenize(text)\n",
    "word_list = [word for word in tokenize if word not in set(stopwords.words('english'))]\n",
    "final_text = \" \".join(word_list)\n",
    "\n",
    "print(example_text)\n",
    "print('')\n",
    "print(final_text)"
   ]
  },
  {
   "cell_type": "code",
   "execution_count": 4,
   "metadata": {},
   "outputs": [
    {
     "name": "stdout",
     "output_type": "stream",
     "text": [
      "['connections', 'connected', 'connecting', 'connection'] ----> ['connect', 'connect', 'connect', 'connect']\n",
      "['likes', 'liked', 'liking', 'likely'] ----------------------> ['like', 'like', 'like', 'like']\n",
      "['programer', 'programs', 'programming', 'programers'] ------> ['program', 'program', 'program', 'program']\n"
     ]
    }
   ],
   "source": [
    "#example showing how words with variations of the same stem are reduced to their common stem\n",
    "word1_list = ['connections', 'connected', 'connecting', 'connection']\n",
    "word2_list = ['likes', 'liked', 'liking', 'likely']\n",
    "word3_list = ['programer', 'programs', 'programming', 'programers']\n",
    "\n",
    "stem1_list = [ps.stem(word) for word in word1_list]\n",
    "stem2_list = [ps.stem(word) for word in word2_list]\n",
    "stem3_list = [ps.stem(word) for word in word3_list]\n",
    "\n",
    "print(str(word1_list) + ' ----> ' + str(stem1_list))\n",
    "print(str(word2_list) + ' ----------------------> ' + str(stem2_list))\n",
    "print(str(word3_list) + ' ------> ' + str(stem3_list))"
   ]
  },
  {
   "cell_type": "code",
   "execution_count": 5,
   "metadata": {},
   "outputs": [],
   "source": [
    "def cleaning(text):\n",
    "    text = text.lower()\n",
    "    text = re.sub('[^A-Za-z]', ' ', text)\n",
    "    tokenize = word_tokenize(text)\n",
    "    stem_list = [ps.stem(word) for word in tokenize if word not in set(stopwords.words('english'))]\n",
    "    joined_text = ' '.join(stem_list)\n",
    "    return joined_text"
   ]
  },
  {
   "cell_type": "code",
   "execution_count": 6,
   "metadata": {},
   "outputs": [],
   "source": [
    "def display_matrix(matrix):\n",
    "    group_names = ['True Neg', 'False Pos', 'False Neg', 'True Pos']\n",
    "    group_counts = [\"{0:0.0f}\".format(value) for value in matrix.flatten()]\n",
    "    group_percentages = [\"{0:.2%}\".format(value) for value in matrix.flatten()/np.sum(matrix)]\n",
    "    labels = [f\"{v1}\\n{v2}\\n{v3}\" for v1, v2, v3 in zip(group_names,group_counts,group_percentages)]\n",
    "    labels = np.asarray(labels).reshape(2,2)\n",
    "    visualisation = sns.heatmap(cf_matrix, annot=labels, fmt='', cmap='Blues')\n",
    "    return visualisation"
   ]
  },
  {
   "cell_type": "code",
   "execution_count": 7,
   "metadata": {},
   "outputs": [],
   "source": [
    "data = []\n",
    "\n",
    "for i in range(dataset.shape[0]):\n",
    "    text = dataset.iloc[i, 1]\n",
    "    processed_text = cleaning(text)\n",
    "    data.append(processed_text)"
   ]
  },
  {
   "cell_type": "code",
   "execution_count": 8,
   "metadata": {},
   "outputs": [
    {
     "name": "stdout",
     "output_type": "stream",
     "text": [
      "The count vector for review 0 is:\n"
     ]
    },
    {
     "data": {
      "text/html": [
       "<div>\n",
       "<style scoped>\n",
       "    .dataframe tbody tr th:only-of-type {\n",
       "        vertical-align: middle;\n",
       "    }\n",
       "\n",
       "    .dataframe tbody tr th {\n",
       "        vertical-align: top;\n",
       "    }\n",
       "\n",
       "    .dataframe thead th {\n",
       "        text-align: right;\n",
       "    }\n",
       "</style>\n",
       "<table border=\"1\" class=\"dataframe\">\n",
       "  <thead>\n",
       "    <tr style=\"text-align: right;\">\n",
       "      <th></th>\n",
       "      <th>anyway</th>\n",
       "      <th>back</th>\n",
       "      <th>batteri</th>\n",
       "      <th>bought</th>\n",
       "      <th>buy</th>\n",
       "      <th>car</th>\n",
       "      <th>card</th>\n",
       "      <th>care</th>\n",
       "      <th>chang</th>\n",
       "      <th>comfort</th>\n",
       "      <th>...</th>\n",
       "      <th>take</th>\n",
       "      <th>tank</th>\n",
       "      <th>tauru</th>\n",
       "      <th>thee</th>\n",
       "      <th>think</th>\n",
       "      <th>tire</th>\n",
       "      <th>tri</th>\n",
       "      <th>version</th>\n",
       "      <th>way</th>\n",
       "      <th>would</th>\n",
       "    </tr>\n",
       "  </thead>\n",
       "  <tbody>\n",
       "    <tr>\n",
       "      <th>0</th>\n",
       "      <td>1</td>\n",
       "      <td>1</td>\n",
       "      <td>1</td>\n",
       "      <td>2</td>\n",
       "      <td>1</td>\n",
       "      <td>1</td>\n",
       "      <td>1</td>\n",
       "      <td>1</td>\n",
       "      <td>1</td>\n",
       "      <td>1</td>\n",
       "      <td>...</td>\n",
       "      <td>1</td>\n",
       "      <td>1</td>\n",
       "      <td>3</td>\n",
       "      <td>1</td>\n",
       "      <td>1</td>\n",
       "      <td>1</td>\n",
       "      <td>1</td>\n",
       "      <td>1</td>\n",
       "      <td>1</td>\n",
       "      <td>2</td>\n",
       "    </tr>\n",
       "  </tbody>\n",
       "</table>\n",
       "<p>1 rows × 60 columns</p>\n",
       "</div>"
      ],
      "text/plain": [
       "   anyway  back  batteri  bought  buy  car  card  care  chang  comfort  ...  \\\n",
       "0       1     1        1       2    1    1     1     1      1        1  ...   \n",
       "\n",
       "   take  tank  tauru  thee  think  tire  tri  version  way  would  \n",
       "0     1     1      3     1      1     1    1        1    1      2  \n",
       "\n",
       "[1 rows x 60 columns]"
      ]
     },
     "metadata": {},
     "output_type": "display_data"
    },
    {
     "name": "stdout",
     "output_type": "stream",
     "text": [
      "\n",
      "The count vector for review 1 is:\n"
     ]
    },
    {
     "data": {
      "text/html": [
       "<div>\n",
       "<style scoped>\n",
       "    .dataframe tbody tr th:only-of-type {\n",
       "        vertical-align: middle;\n",
       "    }\n",
       "\n",
       "    .dataframe tbody tr th {\n",
       "        vertical-align: top;\n",
       "    }\n",
       "\n",
       "    .dataframe thead th {\n",
       "        text-align: right;\n",
       "    }\n",
       "</style>\n",
       "<table border=\"1\" class=\"dataframe\">\n",
       "  <thead>\n",
       "    <tr style=\"text-align: right;\">\n",
       "      <th></th>\n",
       "      <th>allow</th>\n",
       "      <th>anoth</th>\n",
       "      <th>anyon</th>\n",
       "      <th>area</th>\n",
       "      <th>basi</th>\n",
       "      <th>better</th>\n",
       "      <th>breez</th>\n",
       "      <th>busi</th>\n",
       "      <th>buy</th>\n",
       "      <th>car</th>\n",
       "      <th>...</th>\n",
       "      <th>uncomfort</th>\n",
       "      <th>unnecessarili</th>\n",
       "      <th>us</th>\n",
       "      <th>usag</th>\n",
       "      <th>usual</th>\n",
       "      <th>weigh</th>\n",
       "      <th>well</th>\n",
       "      <th>went</th>\n",
       "      <th>work</th>\n",
       "      <th>would</th>\n",
       "    </tr>\n",
       "  </thead>\n",
       "  <tbody>\n",
       "    <tr>\n",
       "      <th>0</th>\n",
       "      <td>1</td>\n",
       "      <td>1</td>\n",
       "      <td>1</td>\n",
       "      <td>1</td>\n",
       "      <td>1</td>\n",
       "      <td>1</td>\n",
       "      <td>1</td>\n",
       "      <td>2</td>\n",
       "      <td>1</td>\n",
       "      <td>7</td>\n",
       "      <td>...</td>\n",
       "      <td>4</td>\n",
       "      <td>1</td>\n",
       "      <td>3</td>\n",
       "      <td>1</td>\n",
       "      <td>1</td>\n",
       "      <td>1</td>\n",
       "      <td>1</td>\n",
       "      <td>1</td>\n",
       "      <td>1</td>\n",
       "      <td>2</td>\n",
       "    </tr>\n",
       "  </tbody>\n",
       "</table>\n",
       "<p>1 rows × 89 columns</p>\n",
       "</div>"
      ],
      "text/plain": [
       "   allow  anoth  anyon  area  basi  better  breez  busi  buy  car  ...  \\\n",
       "0      1      1      1     1     1       1      1     2    1    7  ...   \n",
       "\n",
       "   uncomfort  unnecessarili  us  usag  usual  weigh  well  went  work  would  \n",
       "0          4              1   3     1      1      1     1     1     1      2  \n",
       "\n",
       "[1 rows x 89 columns]"
      ]
     },
     "metadata": {},
     "output_type": "display_data"
    },
    {
     "name": "stdout",
     "output_type": "stream",
     "text": [
      "\n",
      "The count vector for review 2 is:\n"
     ]
    },
    {
     "data": {
      "text/html": [
       "<div>\n",
       "<style scoped>\n",
       "    .dataframe tbody tr th:only-of-type {\n",
       "        vertical-align: middle;\n",
       "    }\n",
       "\n",
       "    .dataframe tbody tr th {\n",
       "        vertical-align: top;\n",
       "    }\n",
       "\n",
       "    .dataframe thead th {\n",
       "        text-align: right;\n",
       "    }\n",
       "</style>\n",
       "<table border=\"1\" class=\"dataframe\">\n",
       "  <thead>\n",
       "    <tr style=\"text-align: right;\">\n",
       "      <th></th>\n",
       "      <th>addit</th>\n",
       "      <th>air</th>\n",
       "      <th>also</th>\n",
       "      <th>approxim</th>\n",
       "      <th>back</th>\n",
       "      <th>balanc</th>\n",
       "      <th>began</th>\n",
       "      <th>belt</th>\n",
       "      <th>bought</th>\n",
       "      <th>broke</th>\n",
       "      <th>...</th>\n",
       "      <th>valv</th>\n",
       "      <th>vehicl</th>\n",
       "      <th>vibrat</th>\n",
       "      <th>week</th>\n",
       "      <th>went</th>\n",
       "      <th>within</th>\n",
       "      <th>work</th>\n",
       "      <th>wrong</th>\n",
       "      <th>yard</th>\n",
       "      <th>year</th>\n",
       "    </tr>\n",
       "  </thead>\n",
       "  <tbody>\n",
       "    <tr>\n",
       "      <th>0</th>\n",
       "      <td>1</td>\n",
       "      <td>3</td>\n",
       "      <td>1</td>\n",
       "      <td>1</td>\n",
       "      <td>1</td>\n",
       "      <td>1</td>\n",
       "      <td>1</td>\n",
       "      <td>4</td>\n",
       "      <td>1</td>\n",
       "      <td>1</td>\n",
       "      <td>...</td>\n",
       "      <td>1</td>\n",
       "      <td>4</td>\n",
       "      <td>1</td>\n",
       "      <td>5</td>\n",
       "      <td>2</td>\n",
       "      <td>3</td>\n",
       "      <td>1</td>\n",
       "      <td>1</td>\n",
       "      <td>1</td>\n",
       "      <td>1</td>\n",
       "    </tr>\n",
       "  </tbody>\n",
       "</table>\n",
       "<p>1 rows × 124 columns</p>\n",
       "</div>"
      ],
      "text/plain": [
       "   addit  air  also  approxim  back  balanc  began  belt  bought  broke  ...  \\\n",
       "0      1    3     1         1     1       1      1     4       1      1  ...   \n",
       "\n",
       "   valv  vehicl  vibrat  week  went  within  work  wrong  yard  year  \n",
       "0     1       4       1     5     2       3     1      1     1     1  \n",
       "\n",
       "[1 rows x 124 columns]"
      ]
     },
     "metadata": {},
     "output_type": "display_data"
    },
    {
     "name": "stdout",
     "output_type": "stream",
     "text": [
      "\n"
     ]
    }
   ],
   "source": [
    "from IPython.display import display\n",
    "\n",
    "for i in range(3):\n",
    "    text = dataset['Review'][i]\n",
    "    processed_text = cleaning(text)\n",
    "    \n",
    "    vect = CountVectorizer()\n",
    "    X = vect.fit_transform([processed_text])\n",
    "    DF = pd.DataFrame(X.A, columns=vect.get_feature_names())\n",
    "    print('The count vector for review ' + str(i) + ' is:')\n",
    "    display(DF)\n",
    "    print('')"
   ]
  },
  {
   "cell_type": "code",
   "execution_count": 16,
   "metadata": {},
   "outputs": [
    {
     "name": "stdout",
     "output_type": "stream",
     "text": [
      "The number of reviews in the training set is: 1105.\n",
      "The number of reviews in the test set is: 277.\n",
      "Accuracy: 76.53% \n"
     ]
    },
    {
     "data": {
      "text/plain": [
       "<AxesSubplot:>"
      ]
     },
     "execution_count": 16,
     "metadata": {},
     "output_type": "execute_result"
    },
    {
     "data": {
      "image/png": "[encoded data removed]",
      "text/plain": [
       "<Figure size 432x288 with 2 Axes>"
      ]
     },
     "metadata": {
      "needs_background": "light"
     },
     "output_type": "display_data"
    }
   ],
   "source": [
    "matrix = CountVectorizer()\n",
    "X = matrix.fit_transform(data).toarray()\n",
    "Y = dataset.iloc[:, 0]\n",
    "\n",
    "X_train, X_test, Y_train, Y_test = train_test_split(X, Y, test_size = 0.2, random_state = 1429)\n",
    "\n",
    "print('The number of reviews in the training set is: ' + str(len(X_train)) + '.')\n",
    "print('The number of reviews in the test set is: ' + str(len(X_test)) + '.')\n",
    "\n",
    "#I use the inbuilt Multinomial Naive Bayes from sklearn for the classification\n",
    "classifier = MultinomialNB()\n",
    "classifier.fit(X_train, Y_train)\n",
    "\n",
    "Y_pred = classifier.predict(X_test)\n",
    "\n",
    "cf_matrix = confusion_matrix(Y_test, Y_pred)\n",
    "class_report = classification_report(Y_test, Y_pred)\n",
    "accuracy = accuracy_score(Y_test, Y_pred)\n",
    "\n",
    "print('Accuracy: %.2f%% ' % (accuracy * 100.0))\n",
    "\n",
    "display_matrix(cf_matrix)"
   ]
  },
  {
   "cell_type": "code",
   "execution_count": 17,
   "metadata": {},
   "outputs": [
    {
     "name": "stdout",
     "output_type": "stream",
     "text": [
      "The number of reviews in the training set is: 1105.\n",
      "The number of reviews in the test set is: 277.\n",
      "Accuracy: 76.53% \n"
     ]
    },
    {
     "data": {
      "text/plain": [
       "<AxesSubplot:>"
      ]
     },
     "execution_count": 17,
     "metadata": {},
     "output_type": "execute_result"
    },
    {
     "data": {
      "image/png": "[encoded data removed]",
      "text/plain": [
       "<Figure size 432x288 with 2 Axes>"
      ]
     },
     "metadata": {
      "needs_background": "light"
     },
     "output_type": "display_data"
    }
   ],
   "source": [
    "matrix2 = CountVectorizer(ngram_range=(1,2))\n",
    "X2 = matrix.fit_transform(data).toarray()\n",
    "Y2 = dataset.iloc[:, 0]\n",
    "\n",
    "X2_train, X2_test, Y2_train, Y2_test = train_test_split(X2, Y2, test_size = 0.2, random_state = 1429)\n",
    "\n",
    "print('The number of reviews in the training set is: ' + str(len(X2_train)) + '.')\n",
    "print('The number of reviews in the test set is: ' + str(len(X2_test)) + '.')\n",
    "\n",
    "#I use the inbuilt Multinomial Naive Bayes from sklearn for the classification\n",
    "classifier2 = MultinomialNB()\n",
    "classifier2.fit(X2_train, Y2_train)\n",
    "\n",
    "Y2_pred = classifier2.predict(X2_test)\n",
    "\n",
    "cf_matrix2 = confusion_matrix(Y2_test, Y2_pred)\n",
    "class_report2 = classification_report(Y2_test, Y2_pred)\n",
    "accuracy2 = accuracy_score(Y2_test, Y2_pred)\n",
    "\n",
    "print('Accuracy: %.2f%% ' % (accuracy2 * 100.0))\n",
    "\n",
    "display_matrix(cf_matrix2)"
   ]
  }
 ],
 "metadata": {
  "kernelspec": {
   "display_name": "Python 3",
   "language": "python",
   "name": "python3"
  },
  "language_info": {
   "codemirror_mode": {
    "name": "ipython",
    "version": 3
   },
   "file_extension": ".py",
   "mimetype": "text/x-python",
   "name": "python",
   "nbconvert_exporter": "python",
   "pygments_lexer": "ipython3",
   "version": "3.8.5"
  }
 },
 "nbformat": 4,
 "nbformat_minor": 4
}
